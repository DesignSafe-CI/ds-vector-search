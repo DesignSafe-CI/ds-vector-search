{
 "cells": [
  {
   "cell_type": "code",
   "execution_count": 1,
   "metadata": {},
   "outputs": [],
   "source": [
    "%load_ext autoreload\n",
    "%autoreload 2"
   ]
  },
  {
   "cell_type": "code",
   "execution_count": 2,
   "metadata": {
    "editable": true,
    "slideshow": {
     "slide_type": ""
    },
    "tags": []
   },
   "outputs": [],
   "source": [
    "import uuid\n",
    "from bootstrap import bootstrap_db, reset_db\n",
    "from utils import query_db, get_embeddings, get_chroma_client, insert_documents, chunk_array\n",
    "from ingest import get_ds_pubs, get_pub_vectors, iterate_publications"
   ]
  },
  {
   "cell_type": "code",
   "execution_count": 8,
   "metadata": {},
   "outputs": [],
   "source": [
    "bootstrap_db()\n",
    "\n",
    "# IF REINGESTING DATA, RESET DB FIRST\n",
    "# reset_db()"
   ]
  },
  {
   "cell_type": "code",
   "execution_count": 3,
   "metadata": {},
   "outputs": [
    {
     "data": {
      "text/plain": [
       "['ds-pub-vectors']"
      ]
     },
     "execution_count": 3,
     "metadata": {},
     "output_type": "execute_result"
    }
   ],
   "source": [
    "get_chroma_client().list_collections()"
   ]
  },
  {
   "cell_type": "code",
   "execution_count": null,
   "metadata": {},
   "outputs": [],
   "source": [
    "# Iterate/embed publications and insert them in the vector db\n",
    "# This could take 1-2 hours to complete\n",
    "from tqdm.notebook import tqdm \n",
    "\n",
    "all_pubs = iterate_publications()\n",
    "for pub in tqdm(all_pubs, leave=None):\n",
    "    pub_vectors = get_pub_vectors(pub)\n",
    "    project_id = pub[\"baseProject\"][\"projectId\"]\n",
    "    id_counter = 0\n",
    "    for chunk in tqdm(chunk_array(pub_vectors), desc=project_id, leave=False):\n",
    "        embeddings = get_embeddings(chunk)\n",
    "        insert_documents(chunk, embeddings, project_id)\n",
    "        \n",
    "        "
   ]
  },
  {
   "cell_type": "code",
   "execution_count": 37,
   "metadata": {},
   "outputs": [
    {
     "data": {
      "text/plain": [
       "{'ids': [['996f390e-4d80-4429-baba-65f3d858ecd9',\n",
       "   '9e6717c0-6e09-410f-a147-5a0c48a0643d',\n",
       "   '9202c701-205d-4ddc-a57c-e6cb8cff1f7d',\n",
       "   'a7b92abf-7387-4307-9aa9-73b25c539d0b',\n",
       "   'fff6168c-b4d4-4179-9132-ee567539e2ff',\n",
       "   '7157d5b6-1d13-4ab2-8326-f312b84e1fb3',\n",
       "   '593c7d19-7a1b-48bf-8589-e564d2547bf0',\n",
       "   'c3eb61f5-4ffe-4294-80a7-7a6a3fcd120f',\n",
       "   'c1800b62-6110-44d5-b3ad-9fc6cea6b63b',\n",
       "   'bae0bd7e-a69b-4f79-a9f3-187291c95332']],\n",
       " 'distances': [[0.20924514532089233,\n",
       "   0.21363937854766846,\n",
       "   0.2242720127105713,\n",
       "   0.22820520401000977,\n",
       "   0.23195379972457886,\n",
       "   0.23221731185913086,\n",
       "   0.23656028509140015,\n",
       "   0.23669922351837158,\n",
       "   0.24006015062332153,\n",
       "   0.24160844087600708]],\n",
       " 'embeddings': None,\n",
       " 'metadatas': [[{'projectId': 'PRJ-2968'},\n",
       "   {'projectId': 'PRJ-4407'},\n",
       "   {'projectId': 'PRJ-2548'},\n",
       "   {'projectId': 'PRJ-3173'},\n",
       "   {'projectId': 'PRJ-2548'},\n",
       "   {'projectId': 'PRJ-3173'},\n",
       "   {'projectId': 'PRJ-1782'},\n",
       "   {'projectId': 'PRJ-4407'},\n",
       "   {'projectId': 'PRJ-3173'},\n",
       "   {'projectId': 'PRJ-3173'}]],\n",
       " 'documents': [['description: This simulation is a collection of 446 ADCIRC storm surge simulations for synthetic storms in the Gulf of Mexico. The output includes both water elevation and velocity time-series. The data could be used for structural impacts, flood risk studies, environmental impacts, disease vectors, among other uses. The total size of the output is on the order of a few terabytes - and provides a wealth of training data for future machine learning applications., in Simulation: ADCIRC Simulation of Synthetic Storms in the Gulf of Mexico, in Project: Texas FEMA Hurricane Winds and Surge',\n",
       "   'description: ADCIRC model used to simulate storm surge from synthetic TCs., in Simulation Model: ADCIRC, in Simulation: ADCIRC Simulations of Synthetic Tropical Cyclones Impacting Coastal Louisiana, in Project: Surrogate Modeling for Storm Surge Prediction',\n",
       "   'description: This category contains all the files relevant to the ADCIRC storm surge simulations. Simulations were carried out with ADCIRC v52. The fort.15 file contains the relevant simulation parameters used for the study. The simulations performed used the same fort.15 control parameters. The only difference in the configuration of the simulations is due to the atmospheric forcing, which is provided from the HWCM simulations., in Simulation Model: ADCIRC, in Simulation: HWCM+ADCIRC model simulations, in Project: Effect of Tropical Cyclone Landfall Angle on Storm Surge',\n",
       "   'description: Storm surge and wave data for Hurricane Gustav (2008)., in Simulation Model: Hurricane Gustav, in Simulation: Simulation Data of Storm Surge and Waves for Historical Hurricanes in the Gulf of Mexico, in Project: Hurricane Surge and Wave Data for Engineering Analysis.',\n",
       "   'description: This project contains model simulations conducted for a study to determine the sensitivity of storm surge to tropical cyclone landfall angle and location. The dataset presented contains both atmospheric and hydrodynamic model simulations. A total of 198 simulations of tropical cyclones were conducted with the Hybrid WRF Cyclone Model (HWCM). These simulations were used as atmospheric forcing to the hydrodynamic ADCIRC model to assess the storm surge impacts along the New Jersey and New York coastlines. The data presented can be used for additional assessment of tropical cyclone impacts (i.e. precipitation, winds) and sensitivity studies on the effect of atmospheric forcing on storm surge.  Additional information on file formatting is available in the README file., in Project: Effect of Tropical Cyclone Landfall Angle on Storm Surge',\n",
       "   'description: Storm surge and wave data for Hurricane Katrina., in Simulation Model: Hurricane Katrina (2005), in Simulation: Simulation Data of Storm Surge and Waves for Historical Hurricanes in the Gulf of Mexico, in Project: Hurricane Surge and Wave Data for Engineering Analysis.',\n",
       "   'description: This simulation was conducted on the Lonestar machine at TACC using the ADCIRC Surge Guidance System. This system runs automatically in the event of an impending hurricane threatening the U.S. Coast. The project contains the wind input file and the maximum water levels computed by ADCIRC for several hurricane Maria advisories.  The fort.22 file represents the wind characteristics for the hurricane.  The maxele.63.nc file represents the maximum water levels computed by ADCIRC (in netCDF format)., in Simulation: Hurricane Maria (2017) Simulation. In In Hurricane Maria ADCIRC Surge Guidance System Storm Surge Forecasts., in Project: Hurricane Maria ADCIRC Surge Guidance System Storm Surge Forecasts',\n",
       "   \"description: ADCIRC simulations of peak storm surge elevations from 645 synthetic tropical cyclones (TCs) in a landscape representing coastal Louisiana in 2020, and 90 synthetic TCs in ten future landscapes representing five decadal time slices (2030 to 2070) under two scenarios varying in assumptions about sea level rise, land subsidence, and other environmental factors. These simulations were executed to support development of Louisiana's 2023 Coastal Master Plan., in Simulation: ADCIRC Simulations of Synthetic Tropical Cyclones Impacting Coastal Louisiana, in Project: Surrogate Modeling for Storm Surge Prediction\",\n",
       "   'description: Storm surge and wave data for Hurricane Nate., in Simulation Model: Hurricane Nate (2005), in Simulation: Simulation Data of Storm Surge and Waves for Historical Hurricanes in the Gulf of Mexico, in Project: Hurricane Surge and Wave Data for Engineering Analysis.',\n",
       "   'description: Storm surge and wave data for Hurricane Isaac., in Simulation Model: Hurricane Isaac (2012), in Simulation: Simulation Data of Storm Surge and Waves for Historical Hurricanes in the Gulf of Mexico, in Project: Hurricane Surge and Wave Data for Engineering Analysis.']],\n",
       " 'uris': None,\n",
       " 'data': None,\n",
       " 'included': ['distances', 'documents', 'metadatas']}"
      ]
     },
     "execution_count": 37,
     "metadata": {},
     "output_type": "execute_result"
    }
   ],
   "source": [
    "# Query the vector database for close matches to the embedding of the query string\n",
    "query_string = \"storm surge simulations\"\n",
    "query_db(query_string)"
   ]
  },
  {
   "cell_type": "code",
   "execution_count": null,
   "metadata": {},
   "outputs": [],
   "source": []
  }
 ],
 "metadata": {
  "kernelspec": {
   "display_name": "Python 3 (ipykernel)",
   "language": "python",
   "name": "python3"
  },
  "language_info": {
   "codemirror_mode": {
    "name": "ipython",
    "version": 3
   },
   "file_extension": ".py",
   "mimetype": "text/x-python",
   "name": "python",
   "nbconvert_exporter": "python",
   "pygments_lexer": "ipython3",
   "version": "3.11.4"
  }
 },
 "nbformat": 4,
 "nbformat_minor": 4
}
